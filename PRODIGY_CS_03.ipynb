{
  "cells": [
    {
      "cell_type": "code",
      "execution_count": null,
      "metadata": {
        "id": "k48jB8beaRvt"
      },
      "outputs": [],
      "source": [
        "import re"
      ]
    },
    {
      "cell_type": "code",
      "execution_count": null,
      "metadata": {
        "colab": {
          "base_uri": "https://localhost:8080/"
        },
        "id": "K1fztGFTaUEL",
        "outputId": "1e4f1612-e07c-4cb0-a36e-f471d41a3be5"
      },
      "outputs": [
        {
          "output_type": "stream",
          "name": "stdout",
          "text": [
            "---------------- Password Complexity Checking Tool -----------------\n",
            "Here are some quick tips for creating a secure password:\n",
            "1. Length: Aim for at least 12 characters.\n",
            "2. Mix Characters: Use a combination of uppercase, lowercase, numbers, and symbols.\n",
            "3. Avoid Common Words: Don't use easily guessable information.\n",
            "4. No Personal Info: Avoid using names, birthdays, or personal details.\n",
            "5. Use Passphrases: Consider combining multiple words or a sentence.\n",
            "6. Unique for Each Account: Don't reuse passwords across multiple accounts.\n",
            "7. Regular Updates: Change passwords periodically.\n",
            "8. Enable 2FA: Use Two-Factor Authentication where possible.\n",
            "9. Be Wary of Phishing: Avoid entering passwords on suspicious sites.\n",
            "10. Password Manager: Consider using one for secure and unique passwords.\n",
            "\n",
            "Enter your password: krithi@03\n",
            "\n",
            "Entered Password: k#######3\n",
            "\n",
            "Password Strength Level: Strong (4 out of 5 criteria are met).\n"
          ]
        }
      ],
      "source": [
        "def assess_password_strength(password):\n",
        "    has_numbers = any(char.isdigit() for char in password)\n",
        "    has_upper_case = any(char.isupper() for char in password)\n",
        "    has_lower_case = any(char.islower() for char in password)\n",
        "    meets_length_requirement = len(password) >= 8\n",
        "    has_special_characters = bool(re.search(r\"[!@#$%^&*(),.?\\\":{}|<>]\", password))\n",
        "\n",
        "    criteria_met = sum([has_numbers, has_upper_case, has_lower_case, meets_length_requirement, has_special_characters])\n",
        "\n",
        "    if criteria_met == 5:\n",
        "        return \"Password Strength Level: Very Strong (All criteria are met).\"\n",
        "    elif criteria_met == 4:\n",
        "        return \"Password Strength Level: Strong (4 out of 5 criteria are met).\"\n",
        "    elif criteria_met == 3:\n",
        "        return \"Password Strength Level: Moderate (3 out of 5 criteria are met).\"\n",
        "    else:\n",
        "        return \"Password Strength Level: Weak (Less than 3 criteria are met).\"\n",
        "\n",
        "def main():\n",
        "    print(\"---------------- Password Complexity Checking Tool -----------------\")\n",
        "    print(\"Here are some quick tips for creating a secure password:\")\n",
        "    tips = [\n",
        "        \"1. Length: Aim for at least 12 characters.\",\n",
        "        \"2. Mix Characters: Use a combination of uppercase, lowercase, numbers, and symbols.\",\n",
        "        \"3. Avoid Common Words: Don't use easily guessable information.\",\n",
        "        \"4. No Personal Info: Avoid using names, birthdays, or personal details.\",\n",
        "        \"5. Use Passphrases: Consider combining multiple words or a sentence.\",\n",
        "        \"6. Unique for Each Account: Don't reuse passwords across multiple accounts.\",\n",
        "        \"7. Regular Updates: Change passwords periodically.\",\n",
        "        \"8. Enable 2FA: Use Two-Factor Authentication where possible.\",\n",
        "        \"9. Be Wary of Phishing: Avoid entering passwords on suspicious sites.\",\n",
        "        \"10. Password Manager: Consider using one for secure and unique passwords.\"\n",
        "    ]\n",
        "    for tip in tips:\n",
        "        print(tip)\n",
        "\n",
        "    password_input = input(\"\\nEnter your password: \")\n",
        "\n",
        "    if len(password_input) > 2:\n",
        "        masked_password = password_input[0] + '#' * (len(password_input) - 2) + password_input[-1]\n",
        "    else:\n",
        "        masked_password = password_input\n",
        "\n",
        "    result = assess_password_strength(password_input)\n",
        "\n",
        "    print(\"\\nEntered Password: {}\".format(masked_password))\n",
        "    print(\"\")\n",
        "    print(result)\n",
        "\n",
        "if __name__ == \"__main__\":\n",
        "    main()"
      ]
    }
  ],
  "metadata": {
    "colab": {
      "provenance": []
    },
    "kernelspec": {
      "display_name": "Python 3",
      "name": "python3"
    },
    "language_info": {
      "name": "python"
    }
  },
  "nbformat": 4,
  "nbformat_minor": 0
}