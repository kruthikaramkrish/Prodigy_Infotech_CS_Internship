{
  "nbformat": 4,
  "nbformat_minor": 0,
  "metadata": {
    "colab": {
      "provenance": []
    },
    "kernelspec": {
      "name": "python3",
      "display_name": "Python 3"
    },
    "language_info": {
      "name": "python"
    }
  },
  "cells": [
    {
      "cell_type": "code",
      "execution_count": null,
      "metadata": {
        "colab": {
          "base_uri": "https://localhost:8080/"
        },
        "id": "BmczRWBlIy9E",
        "outputId": "ef21df5d-d615-454d-917a-ba1252a9f4d4"
      },
      "outputs": [
        {
          "output_type": "stream",
          "name": "stdout",
          "text": [
            "Welcome to Caesar Cipher Program\n",
            "Enter the message: hi hello\n",
            "Enter the shift value: 2\n",
            "Encrypted Message: jk jgnnq\n",
            "Decrypted Message: hi hello\n"
          ]
        }
      ],
      "source": [
        "def caesar_cipher(text, shift, mode='encrypt'):\n",
        "    result = \"\"\n",
        "    if mode == 'decrypt':\n",
        "        shift = -shift\n",
        "    for char in text:\n",
        "        if char.isupper():\n",
        "            result += chr((ord(char) + shift - 65) % 26 + 65)\n",
        "        elif char.islower():\n",
        "            result += chr((ord(char) + shift - 97) % 26 + 97)\n",
        "        else:\n",
        "            result += char\n",
        "    return result\n",
        "def main():\n",
        "    print(\"Welcome to Caesar Cipher Program\")\n",
        "    text = input(\"Enter the message: \")\n",
        "    shift = int(input(\"Enter the shift value: \"))\n",
        "    encrypted_text = caesar_cipher(text, shift, mode='encrypt')\n",
        "    print(f\"Encrypted Message: {encrypted_text}\")\n",
        "    decrypted_text = caesar_cipher(encrypted_text, shift, mode='decrypt')\n",
        "    print(f\"Decrypted Message: {decrypted_text}\")\n",
        "if __name__ == \"__main__\":\n",
        "    main()\n"
      ]
    }
  ]
}